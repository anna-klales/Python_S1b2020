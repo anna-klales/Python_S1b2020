{
  "nbformat": 4,
  "nbformat_minor": 0,
  "metadata": {
    "colab": {
      "name": "Lab - Colab notebook 2.ipynb",
      "provenance": [],
      "authorship_tag": "ABX9TyNar7/RJ2R0lzPGZdxMkT35",
      "include_colab_link": true
    },
    "kernelspec": {
      "name": "python3",
      "display_name": "Python 3"
    }
  },
  "cells": [
    {
      "cell_type": "markdown",
      "metadata": {
        "id": "view-in-github",
        "colab_type": "text"
      },
      "source": [
        "<a href=\"https://colab.research.google.com/github/anna-klales/Python_S1b2020/blob/master/Lab_Colab_notebook_2.ipynb\" target=\"_parent\"><img src=\"https://colab.research.google.com/assets/colab-badge.svg\" alt=\"Open In Colab\"/></a>"
      ]
    },
    {
      "cell_type": "code",
      "metadata": {
        "id": "nMsYVxGQ1itC",
        "colab_type": "code",
        "colab": {}
      },
      "source": [
        "import numpy as np\n",
        "import matplotlib.pyplot as plt\n",
        "from google.colab import files"
      ],
      "execution_count": 17,
      "outputs": []
    },
    {
      "cell_type": "code",
      "metadata": {
        "id": "BUaCscqy1oCr",
        "colab_type": "code",
        "colab": {}
      },
      "source": [
        "url = \"https://github.com/anna-klales/Python_S1b2020/raw/master/classtrials.csv\"\n",
        "class_trials = np.loadtxt(url)"
      ],
      "execution_count": 19,
      "outputs": []
    },
    {
      "cell_type": "markdown",
      "metadata": {
        "id": "qEQougpV1--J",
        "colab_type": "text"
      },
      "source": [
        "# Enter the data from your 10 trials in the array below, replacing the zeros with your data:"
      ]
    },
    {
      "cell_type": "code",
      "metadata": {
        "id": "RMyKJp9x10M8",
        "colab_type": "code",
        "colab": {}
      },
      "source": [
        "my_trials = np.array([0,0,0,0,0,0,0,0,0,0])"
      ],
      "execution_count": 20,
      "outputs": []
    },
    {
      "cell_type": "markdown",
      "metadata": {
        "id": "wX2Xdck3_nb-",
        "colab_type": "text"
      },
      "source": [
        "Run the code cell below to plot the distributions of your data and the class data.  Check to be sure they make sense."
      ]
    },
    {
      "cell_type": "code",
      "metadata": {
        "id": "v28GZYoZ_n5f",
        "colab_type": "code",
        "colab": {
          "base_uri": "https://localhost:8080/",
          "height": 295
        },
        "outputId": "16ff7549-3f8e-44b1-cbe4-d74909ef74df"
      },
      "source": [
        "fig, ax = plt.subplots()\n",
        "bins = np.arange(-0.5,11,1) # make nice bin ranges for coins\n",
        "ax.hist(class_trials,bins=bins,color='blue',edgecolor = 'white',label='Test 1')\n",
        "ax.hist(my_trials,bins=bins,color='skyblue',edgecolor = 'white',label='Test 1')\n",
        "# for other colors, see https://matplotlib.org/3.1.0/gallery/color/named_colors.html\n",
        "\n",
        "\n",
        "ax.set_ylabel('y axis label')\n",
        "ax.set_xlabel('x axis label')\n",
        "ax.legend()\n",
        "ax.set_title('Title');"
      ],
      "execution_count": 21,
      "outputs": [
        {
          "output_type": "display_data",
          "data": {
            "image/png": "[encoded data removed]",
            "text/plain": [
              "<Figure size 432x288 with 1 Axes>"
            ]
          },
          "metadata": {
            "tags": [],
            "needs_background": "light"
          }
        }
      ]
    },
    {
      "cell_type": "markdown",
      "metadata": {
        "id": "g4GlBWESAUu5",
        "colab_type": "text"
      },
      "source": [
        "# Determining the statistical significance"
      ]
    },
    {
      "cell_type": "markdown",
      "metadata": {
        "id": "LIR_Vhej2MLs",
        "colab_type": "text"
      },
      "source": [
        "You are looking to find the statistical significance of your trials relative to the class trials.  The statistical significance is \n",
        "$$SS = \\frac{|(\\text{mean of your trials})-(\\text{mean of class trials})|}{\\sqrt{\\sigma_{\\mu,\\text{you}}^2+\\sigma_{\\mu,\\text{class}}^2}}$$\n",
        "\n",
        "where $\\sigma_{\\mu,\\text{you}}$ is the error **in the mean** of your dataset and $\\sigma_{\\mu,\\text{class}}$ is the error **in the mean** of the class dataset.\n",
        "\n",
        "Since the error in the mean is \n",
        "$$\\sigma_\\mu = \\frac{\\sigma}{\\sqrt{N}}=\\frac{\\text{standard deviation}}{\\text{number of elements in dataset}}$$\n",
        "\n",
        "it's easy to compute this in python, because numpy has a standard deviation function.  To find the error in your dataset, you just do\n",
        "\n",
        "```\n",
        "N_me = len(my_trials)\n",
        "my_mean_error = np.std(my_trials)/np.sqrt(N_me)\n",
        "```\n",
        "\n",
        "Compute the mean and the error in the mean in the next cell for both your dataset and the class dataset.  Then compute the statistical significance.  Call us for help if you have any questions at all!"
      ]
    },
    {
      "cell_type": "code",
      "metadata": {
        "id": "Br2D2nUOAriR",
        "colab_type": "code",
        "colab": {}
      },
      "source": [
        "class_mean = \n",
        "my_mean = \n",
        "\n",
        "N_me = \n",
        "N_class = \n",
        "\n",
        "my_mean_error = \n",
        "class_mean _error = "
      ],
      "execution_count": null,
      "outputs": []
    },
    {
      "cell_type": "code",
      "metadata": {
        "id": "3nm8B8nnA_z3",
        "colab_type": "code",
        "colab": {}
      },
      "source": [
        "# compute statistical significance\n",
        "\n",
        "SS = "
      ],
      "execution_count": null,
      "outputs": []
    }
  ]
}