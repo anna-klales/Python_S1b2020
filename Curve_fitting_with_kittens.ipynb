{
  "nbformat": 4,
  "nbformat_minor": 0,
  "metadata": {
    "colab": {
      "name": "Curve fitting with kittens.ipynb",
      "provenance": [],
      "collapsed_sections": [],
      "include_colab_link": true
    },
    "kernelspec": {
      "name": "python3",
      "display_name": "Python 3"
    }
  },
  "cells": [
    {
      "cell_type": "markdown",
      "metadata": {
        "id": "view-in-github",
        "colab_type": "text"
      },
      "source": [
        "<a href=\"https://colab.research.google.com/github/anna-klales/Python_S1b2020/blob/master/Curve_fitting_with_kittens.ipynb\" target=\"_parent\"><img src=\"https://colab.research.google.com/assets/colab-badge.svg\" alt=\"Open In Colab\"/></a>"
      ]
    },
    {
      "cell_type": "markdown",
      "metadata": {
        "id": "Qi9a4tKsc5M2",
        "colab_type": "text"
      },
      "source": [
        "# The scary looking code below\n",
        "\n",
        "The code below might look a little scary, but it's mostly just a lot of comments.  Don't worry about it.  Just run the cell - it won't print out anything, but it will define some functions that we'll use below.  We'll talk a little more about what these functions do later."
      ]
    },
    {
      "cell_type": "code",
      "metadata": {
        "id": "3uFy4LeM5YWa",
        "colab_type": "code",
        "colab": {}
      },
      "source": [
        "import numpy as np\n",
        "import matplotlib.pyplot as plt\n",
        "from scipy.optimize import curve_fit\n",
        "\n",
        "\n",
        "\n",
        "def chisquare(data,model,uncertainty):\n",
        "    '''\n",
        "    Calculates value of chi squared for model given data and unvertainty\n",
        "    \n",
        "    Parameters\n",
        "    ----------\n",
        "    data : numpy array\n",
        "            1D vector of data values\n",
        "                \n",
        "    model : numpy array\n",
        "            1D vector of values predicted by model\n",
        "    \n",
        "    uncertainty : numpy array\n",
        "            1D vector of uncertainty corresponding to data\n",
        "    \n",
        "    Returns\n",
        "    -------\n",
        "    x2 : float\n",
        "       Returns value of chi squared for this model given data and uncertainty\n",
        "    '''\n",
        "\n",
        "    x2 = np.sum((data-model)**2/uncertainty**2)\n",
        "    \n",
        "    return x2\n",
        "\n",
        "def line(x,m,b):\n",
        "    return m*x + b\n",
        "\n",
        "def mycurvefit(func,XX,YY,UNCERT,xlabel,ylabel):\n",
        "    '''\n",
        "    Fits data (XX, YY, UNCERT) to function using scipy.curvefit, and then plots data and best fit\n",
        "        Parameters\n",
        "    ----------\n",
        "    func : user-defined function\n",
        "            Model to be used to fit data\n",
        "                \n",
        "    XX : numpy array\n",
        "            1D vector of data's independent variable\n",
        "    \n",
        "    YY : numpy array \n",
        "            1D vector of data's dependent variable\n",
        "            \n",
        "    UNCERT : numpy array\n",
        "            1D vector of uncertainty in YY\n",
        "            \n",
        "    xlabel: string\n",
        "            label for plot's x-axis\n",
        "            \n",
        "    ylabel : string\n",
        "            label for plot's y-axis\n",
        "    \n",
        "    Returns\n",
        "    -------\n",
        "    fitparams : numpy array\n",
        "           1D array of best fit values of parameters\n",
        "       \n",
        "    fiterrs : numpy array\n",
        "            1D array of errors on best fit parameters (taken from sqrt of diag of covariance matrix)\n",
        "    \n",
        "    fig : figure handle\n",
        "    \n",
        "    ax : axes handle\n",
        "    \n",
        "    '''\n",
        "    \n",
        "    ##################################################\n",
        "    #                Do the curve fit                #\n",
        "    ##################################################     \n",
        "    \n",
        "    \n",
        "    # To get curve_fit to use UNCERT, set absolute_sigma = True.  Otherwise sigma = 1\n",
        "    fitparams,pcov = curve_fit(func,XX,YY,sigma = UNCERT,absolute_sigma=True)\n",
        "\n",
        "    # Find error in each parameter.  Assumes covariance matrix is roughly diagonal.\n",
        "    fiterrs = np.sqrt(np.diag(pcov))\n",
        "\n",
        "    # print out the parameters and errors on them \n",
        "    print('Best Fit Parameters:\\n')\n",
        "    i = 0\n",
        "    for A,sigA in zip(fitparams, fiterrs):\n",
        "        i = i + 1\n",
        "        mystring = '\\t P' + str(i) + ' = '\n",
        "        print(mystring,round(A,2),'+/-',round(sigA,2))\n",
        "        \n",
        "    \n",
        "    \n",
        "    ##################################################\n",
        "    #                Begin Plotting                  #\n",
        "    ##################################################\n",
        "    \n",
        "    fig,ax = plt.subplots()\n",
        "    # plot the raw data\n",
        "    ax.errorbar(XX,YY,UNCERT,fmt='.',label='data')\n",
        "    \n",
        "    \n",
        "    # plot the fit\n",
        "    XX_shade = np.linspace(min(XX),max(XX),100)\n",
        "    ax.plot(XX_shade,func(XX_shade,*fitparams),label = 'best fit')\n",
        "    \n",
        "    # make the plot nice\n",
        "    ax.set_xlabel(xlabel)\n",
        "    ax.set_ylabel(ylabel)\n",
        "    plt.legend()\n",
        "    \n",
        "    \n",
        "    \n",
        "    ##################################################\n",
        "    #    Calculate and display the fit metrics       #\n",
        "    ##################################################\n",
        "    \n",
        "    # calculate the number of degrees of freedom\n",
        "    shape = np.shape(XX)\n",
        "    dof = shape[0] - len(fitparams)\n",
        "    \n",
        "    print('\\n Fit Metrics:\\n')\n",
        "    print('\\t Degrees of freedom: ', dof)\n",
        "    \n",
        "    X2 = chisquare(YY,func(XX,*fitparams),UNCERT)\n",
        "    X2string = '\\t Chi Squared = ' + str(round(X2,1))\n",
        "    X2redstring = '\\t Reduced Chi Squared = '+ str(round(X2/dof,1))\n",
        "    print(X2string)\n",
        "    print(X2redstring)\n",
        "\n",
        "    \n",
        "    return fitparams,fiterrs,fig,ax"
      ],
      "execution_count": 2,
      "outputs": []
    },
    {
      "cell_type": "markdown",
      "metadata": {
        "id": "5IKxPg7vKXem",
        "colab_type": "text"
      },
      "source": [
        "# The data\n"
      ]
    },
    {
      "cell_type": "code",
      "metadata": {
        "id": "r9ncqaq38SWY",
        "colab_type": "code",
        "colab": {}
      },
      "source": [
        "#number of kittens in Anna's lap\n",
        "nkittens = np.array([1,2,3,4,5])\n",
        "\n",
        "# how happy Anna is, in happiness units\n",
        "happiness = np.array([6.7,8.3,10.2,12.4,13.8])\n",
        "\n",
        "# uncertainty in the means of Anna's happiness\n",
        "happy_uncert = np.array([0.3,0.2,0.1,0.3,0.2])\n"
      ],
      "execution_count": 30,
      "outputs": []
    },
    {
      "cell_type": "markdown",
      "metadata": {
        "id": "1agLARZ7s_uu",
        "colab_type": "text"
      },
      "source": [
        "#Plot the data:\n",
        "\n",
        "You can customize your plot in many ways; [here are some basics](https://matplotlib.org/2.1.1/api/_as_gen/matplotlib.pyplot.plot.html).\n",
        "\n"
      ]
    },
    {
      "cell_type": "code",
      "metadata": {
        "id": "8bSjdfMd5Vnq",
        "colab_type": "code",
        "colab": {
          "base_uri": "https://localhost:8080/",
          "height": 295
        },
        "outputId": "93e0d8c1-925f-4da5-a620-f9692e6508ff"
      },
      "source": [
        "fig, ax = plt.subplots()\n",
        "ax.errorbar(nkittens,happiness,yerr=happy_uncert,fmt='.')\n",
        "ax.set_xlabel('number of kittens')\n",
        "ax.set_ylabel('happiness')\n",
        "ax.set_title('kittens and happiness');"
      ],
      "execution_count": 31,
      "outputs": [
        {
          "output_type": "display_data",
          "data": {
            "image/png": "[encoded data removed]",
            "text/plain": [
              "<Figure size 432x288 with 1 Axes>"
            ]
          },
          "metadata": {
            "tags": [],
            "needs_background": "light"
          }
        }
      ]
    },
    {
      "cell_type": "code",
      "metadata": {
        "id": "Hb9r78ar-V0O",
        "colab_type": "code",
        "colab": {}
      },
      "source": [
        ""
      ],
      "execution_count": null,
      "outputs": []
    }
  ]
}