{
  "nbformat": 4,
  "nbformat_minor": 0,
  "metadata": {
    "colab": {
      "name": "interference calculations.ipynb",
      "provenance": [],
      "collapsed_sections": [],
      "include_colab_link": true
    },
    "kernelspec": {
      "name": "python3",
      "display_name": "Python 3"
    }
  },
  "cells": [
    {
      "cell_type": "markdown",
      "metadata": {
        "id": "view-in-github",
        "colab_type": "text"
      },
      "source": [
        "<a href=\"https://colab.research.google.com/github/anna-klales/Python_S1b2020/blob/master/interference_calculations.ipynb\" target=\"_parent\"><img src=\"https://colab.research.google.com/assets/colab-badge.svg\" alt=\"Open In Colab\"/></a>"
      ]
    },
    {
      "cell_type": "code",
      "metadata": {
        "id": "3uFy4LeM5YWa",
        "colab_type": "code",
        "colab": {}
      },
      "source": [
        "import numpy as np\n",
        "import matplotlib.pyplot as plt\n",
        "\n"
      ],
      "execution_count": 12,
      "outputs": []
    },
    {
      "cell_type": "code",
      "metadata": {
        "id": "oBU9WPtITgXq",
        "colab_type": "code",
        "colab": {}
      },
      "source": [
        "# define some often used quantities\n",
        "\n",
        "cm = 10**(-2)\n",
        "mm = 10**(-3)\n",
        "nm = 10**(-9)\n"
      ],
      "execution_count": 15,
      "outputs": []
    },
    {
      "cell_type": "code",
      "metadata": {
        "id": "M7Geg7Je6ZUt",
        "colab_type": "code",
        "colab": {
          "base_uri": "https://localhost:8080/",
          "height": 34
        },
        "outputId": "d4b24cb6-583d-41c4-93eb-b4d910284b1d"
      },
      "source": [
        "lam = 650*nm\n",
        "D = 0.25*mm\n",
        "\n",
        "#calculate the sin of theta = \n",
        "sin_theta = 2.44*lam/D\n",
        "\n",
        "#find the angle by taking the inverse sine\n",
        "theta = np.arcsin(sin_theta)\n",
        "\n",
        "#convert to degrees\n",
        "thetadeg = np.rad2deg(theta)\n",
        "\n",
        "print(thetadeg)"
      ],
      "execution_count": 16,
      "outputs": [
        {
          "output_type": "stream",
          "text": [
            "0.3634868634278704\n"
          ],
          "name": "stdout"
        }
      ]
    },
    {
      "cell_type": "code",
      "metadata": {
        "id": "pcSy9QTTAQ27",
        "colab_type": "code",
        "colab": {}
      },
      "source": [
        ""
      ],
      "execution_count": null,
      "outputs": []
    }
  ]
}