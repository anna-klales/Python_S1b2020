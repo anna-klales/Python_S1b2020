{
  "nbformat": 4,
  "nbformat_minor": 0,
  "metadata": {
    "colab": {
      "name": "Colab notebook 3.ipynb",
      "provenance": [],
      "collapsed_sections": [],
      "include_colab_link": true
    },
    "kernelspec": {
      "name": "python3",
      "display_name": "Python 3"
    }
  },
  "cells": [
    {
      "cell_type": "markdown",
      "metadata": {
        "id": "view-in-github",
        "colab_type": "text"
      },
      "source": [
        "<a href=\"https://colab.research.google.com/github/anna-klales/Python_S1b2020/blob/master/Colab_notebook_3.ipynb\" target=\"_parent\"><img src=\"https://colab.research.google.com/assets/colab-badge.svg\" alt=\"Open In Colab\"/></a>"
      ]
    },
    {
      "cell_type": "code",
      "metadata": {
        "id": "hf3VbqJCAsMs",
        "colab_type": "code",
        "colab": {}
      },
      "source": [
        "import numpy as np\n",
        "import matplotlib.pyplot as plt"
      ],
      "execution_count": null,
      "outputs": []
    },
    {
      "cell_type": "code",
      "metadata": {
        "id": "rguSuucxCuxT",
        "colab_type": "code",
        "colab": {}
      },
      "source": [
        "url = \"https://github.com/anna-klales/Python_S1b2020/blob/master/STRIDE_2007-2017.csv?raw=true\"\n",
        "temps_new = np.loadtxt(url)\n",
        "\n",
        "url = \"https://github.com/anna-klales/Python_S1b2020/blob/master/UnionArmy_1860-1940.csv?raw=true\"\n",
        "temps_old = np.loadtxt(url)"
      ],
      "execution_count": null,
      "outputs": []
    },
    {
      "cell_type": "markdown",
      "metadata": {
        "id": "c_e6ioTBSHE7",
        "colab_type": "text"
      },
      "source": [
        "Did we successfully import the data?"
      ]
    },
    {
      "cell_type": "code",
      "metadata": {
        "id": "tv5JDe2URaco",
        "colab_type": "code",
        "colab": {
          "base_uri": "https://localhost:8080/",
          "height": 69
        },
        "outputId": "a81bbfe7-b4be-47d4-9f5e-53f26200829e"
      },
      "source": [
        "print(temps_new)\n",
        "print(temps_old)"
      ],
      "execution_count": null,
      "outputs": [
        {
          "output_type": "stream",
          "text": [
            "[98.2 96.8 97.7 ... 98.  97.7 98.7]\n",
            "[98.19999695 98.5        98.80000305 ... 98.         98.\n",
            " 98.        ]\n"
          ],
          "name": "stdout"
        }
      ]
    },
    {
      "cell_type": "markdown",
      "metadata": {
        "id": "ZJjf_7T33o6S",
        "colab_type": "text"
      },
      "source": [
        "# Plotting the data\n",
        "\n",
        "\n",
        "\n"
      ]
    },
    {
      "cell_type": "code",
      "metadata": {
        "id": "U7r7e94ASChE",
        "colab_type": "code",
        "colab": {
          "base_uri": "https://localhost:8080/",
          "height": 295
        },
        "outputId": "fdc0b3d6-51ce-4752-a4ce-7ad097af6d38"
      },
      "source": [
        "fig, ax = plt.subplots()\n",
        "ax.hist(temps_new,20,color = 'green',label = 'new')\n",
        "ax.hist(temps_old,20,color='skyblue',label='old')\n",
        "\n",
        "# for other colors, see https://matplotlib.org/3.1.0/gallery/color/named_colors.html\n",
        "\n",
        "\n",
        "ax.set_ylabel('your y label')\n",
        "ax.set_xlabel('your x label')\n",
        "ax.legend()\n",
        "ax.set_title('your title');"
      ],
      "execution_count": null,
      "outputs": [
        {
          "output_type": "display_data",
          "data": {
            "image/png": "[encoded data removed]",
            "text/plain": [
              "<Figure size 432x288 with 1 Axes>"
            ]
          },
          "metadata": {
            "tags": [],
            "needs_background": "light"
          }
        }
      ]
    },
    {
      "cell_type": "markdown",
      "metadata": {
        "id": "7PVZNvEyCVtD",
        "colab_type": "text"
      },
      "source": [
        "Has human body temperature changed over this 100 year span?  Is the mean temperature around 1900 the same as the mean temperature around 200?  \n",
        "\n",
        "Is average human body temperature 98.6? (Hint: you can treat 98.6 as the mean of a distribution with an error in the mean of zero.)\n",
        "\n",
        "What other factors might you need to consider before making a claim?"
      ]
    },
    {
      "cell_type": "markdown",
      "metadata": {
        "id": "pQ-tS6_-C5jC",
        "colab_type": "text"
      },
      "source": [
        "When you're done, you can download just this notebook (notebook 3) and upload to the assignment on Canvas.  (File->Download as .ipynb)"
      ]
    }
  ]
}