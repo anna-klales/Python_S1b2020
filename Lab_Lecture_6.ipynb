{
  "nbformat": 4,
  "nbformat_minor": 0,
  "metadata": {
    "colab": {
      "name": "Lab - Lecture 6.ipynb",
      "provenance": [],
      "collapsed_sections": [],
      "include_colab_link": true
    },
    "kernelspec": {
      "name": "python3",
      "display_name": "Python 3"
    }
  },
  "cells": [
    {
      "cell_type": "markdown",
      "metadata": {
        "id": "view-in-github",
        "colab_type": "text"
      },
      "source": [
        "<a href=\"https://colab.research.google.com/github/anna-klales/Python_S1b2020/blob/master/Lab_Lecture_6.ipynb\" target=\"_parent\"><img src=\"https://colab.research.google.com/assets/colab-badge.svg\" alt=\"Open In Colab\"/></a>"
      ]
    },
    {
      "cell_type": "code",
      "metadata": {
        "id": "3uFy4LeM5YWa",
        "colab_type": "code",
        "colab": {}
      },
      "source": [
        "import numpy as np\n",
        "import matplotlib.pyplot as plt\n",
        "from scipy.optimize import curve_fit"
      ],
      "execution_count": 8,
      "outputs": []
    },
    {
      "cell_type": "markdown",
      "metadata": {
        "id": "5IKxPg7vKXem",
        "colab_type": "text"
      },
      "source": [
        "# Collecting and plotting your data\n",
        "\n",
        "Ok here's where we'll get into it.  You are taking data - for every distance x along the line, you're measuring the voltage - multiple times!  Store your values in the xx and VV arrays defined below."
      ]
    },
    {
      "cell_type": "code",
      "metadata": {
        "id": "r9ncqaq38SWY",
        "colab_type": "code",
        "colab": {
          "base_uri": "https://localhost:8080/",
          "height": 130
        },
        "outputId": "e9a3c3a1-9aa2-4d0f-f84b-89d458655da7"
      },
      "source": [
        "#put your POSITION VALUES in the array below. There should be 6 of them:\n",
        "xx = np.array([0.1,0.2,0.3,0.4,0.5,0.6])\n",
        "\n",
        "# at each x position, you'll take 5 measurements of voltage\n",
        "# measure the voltage, take your multimeter probe away, and then put it back on the line for the next measurement\n",
        "\n",
        "\n",
        "V1 = np.array([0,0,0,0,0]) # these should be voltages measured at position 1\n",
        "V2 = np.array([0,0,0,0,0]) # these should be voltages measured at position 2\n",
        "V3 = np.array([0,0,0,0,0]) # ...\n",
        "V4 = np.array([0,0,0,0,0])\n",
        "V5 = np.array([0,0,0,0,0])\n",
        "V6 = np.array([0,0,0,0,0])\n",
        "\n",
        "# now we need to calculate the mean voltage for each position. We'll want to store that in an array.  \n",
        "# I did it for you:\n",
        "VV_means = np.array([np.mean(V1),np.mean(V2),np.mean(V3),np.mean(V4),np.mean(V5),np.mean(V6)])\n",
        "\n",
        "# now we need an array of the standard error in the mean of each voltage measurement.\n",
        "# you do it, but don't forget that the error in the mean depends on the number of measurements you took!:\n",
        "VV_err = np.array([,,,,,])\n",
        "\n",
        "# print em out. Do they seem reasonable?\n",
        "print(xx,VV_means)"
      ],
      "execution_count": 9,
      "outputs": [
        {
          "output_type": "error",
          "ename": "SyntaxError",
          "evalue": "ignored",
          "traceback": [
            "\u001b[0;36m  File \u001b[0;32m\"<ipython-input-9-943907608be6>\"\u001b[0;36m, line \u001b[0;32m21\u001b[0m\n\u001b[0;31m    VV_err = np.array([,,,,,])\u001b[0m\n\u001b[0m                       ^\u001b[0m\n\u001b[0;31mSyntaxError\u001b[0m\u001b[0;31m:\u001b[0m invalid syntax\n"
          ]
        }
      ]
    },
    {
      "cell_type": "markdown",
      "metadata": {
        "id": "1agLARZ7s_uu",
        "colab_type": "text"
      },
      "source": [
        "Now we'll plot your data using the matplotlib library.  Follow the structure below to get your first plot.  You can customize your plot in many ways; [here are some basics](https://matplotlib.org/2.1.1/api/_as_gen/matplotlib.pyplot.plot.html).\n",
        "\n",
        "```\n",
        "fig, ax = plt.subplots()\n",
        "#ax.plot(xx,VV_means,'.')\n",
        "ax.errorbar(xx,VV_means,yerr=VV_err,fmt='.')\n",
        "ax.set_xlabel('your x axis label')\n",
        "ax.set_ylabel('your y axis label')\n",
        "ax.set_title('your title')\n",
        "```\n"
      ]
    },
    {
      "cell_type": "code",
      "metadata": {
        "id": "Hb9r78ar-V0O",
        "colab_type": "code",
        "colab": {}
      },
      "source": [
        "# Make your plot here.\n",
        "\n",
        "\n"
      ],
      "execution_count": 10,
      "outputs": []
    },
    {
      "cell_type": "markdown",
      "metadata": {
        "id": "3wk99amSwiEx",
        "colab_type": "text"
      },
      "source": [
        "When you're happy with your plot, take a screenshot of this notebook and upload it to the assignment on Canvas.  Make sure you save this notebook by going to File -> Save a copy in Drive.  Give it a title that includes your name."
      ]
    }
  ]
}