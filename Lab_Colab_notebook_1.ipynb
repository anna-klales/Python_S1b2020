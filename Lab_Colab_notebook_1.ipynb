{
  "nbformat": 4,
  "nbformat_minor": 0,
  "metadata": {
    "colab": {
      "name": "Lab - Colab notebook 1.ipynb",
      "provenance": [],
      "authorship_tag": "ABX9TyOlE445mudIDbBx7591rSwI",
      "include_colab_link": true
    },
    "kernelspec": {
      "name": "python3",
      "display_name": "Python 3"
    }
  },
  "cells": [
    {
      "cell_type": "markdown",
      "metadata": {
        "id": "view-in-github",
        "colab_type": "text"
      },
      "source": [
        "<a href=\"https://colab.research.google.com/github/anna-klales/Python_S1b2020/blob/master/Lab_Colab_notebook_1.ipynb\" target=\"_parent\"><img src=\"https://colab.research.google.com/assets/colab-badge.svg\" alt=\"Open In Colab\"/></a>"
      ]
    },
    {
      "cell_type": "code",
      "metadata": {
        "id": "st4aenU7DF7K",
        "colab_type": "code",
        "colab": {}
      },
      "source": [
        "import numpy as np\n",
        "import matplotlib.pyplot as plt\n",
        "from google.colab import files\n"
      ],
      "execution_count": null,
      "outputs": []
    },
    {
      "cell_type": "markdown",
      "metadata": {
        "id": "W3ZkB0aiuCZO",
        "colab_type": "text"
      },
      "source": [
        "# Roll a die 30 times:\n",
        "![alt text](https://c1.wallpaperflare.com/preview/407/114/490/cube-roll-the-dice-play-luck.jpg)"
      ]
    },
    {
      "cell_type": "markdown",
      "metadata": {
        "id": "bAKa6ri7uiWT",
        "colab_type": "text"
      },
      "source": [
        "## To do:\n",
        "\n",
        "The following block of code will import a dataset consisting of the results of 30 rolls of a die and store it in a variable called \"rolls.\"  This is a special type of variable called an array, which is a whole list of numbers (kinda like a column of numbers in a spreadsheet). I've always thought about it like a row of mailboxes for storing numbers.  Try printing out the variable \"rolls.\"  "
      ]
    },
    {
      "cell_type": "code",
      "metadata": {
        "id": "PEyCzhwv05sA",
        "colab_type": "code",
        "colab": {}
      },
      "source": [
        "url = \"https://github.com/anna-klales/Python_S1b2020/raw/master/die_rolls_30.txt\"\n",
        "\n",
        "rolls = np.loadtxt(url)"
      ],
      "execution_count": 53,
      "outputs": []
    },
    {
      "cell_type": "code",
      "metadata": {
        "id": "g1D8EKK70-ot",
        "colab_type": "code",
        "colab": {}
      },
      "source": [
        "# print out the variable \"rolls.\"  Remember that to print out a variable x, you just type print(x)\n",
        "\n",
        "\n"
      ],
      "execution_count": 54,
      "outputs": []
    },
    {
      "cell_type": "markdown",
      "metadata": {
        "id": "b-cwfxO4aEG8",
        "colab_type": "text"
      },
      "source": [
        "How many values are in rolls?  You could count them, but that becomes tedious when there are a lot.  The function len() will tell you how many entries there are in an array, and np.mean() will tell you the mean:"
      ]
    },
    {
      "cell_type": "code",
      "metadata": {
        "id": "kyll4TM_wBZu",
        "colab_type": "code",
        "colab": {
          "base_uri": "https://localhost:8080/",
          "height": 52
        },
        "outputId": "43dc475c-6c43-4529-c5bc-ef5487cd40b6"
      },
      "source": [
        "N = len(rolls)\n",
        "print(N)\n",
        "\n",
        "die_mean = np.mean(rolls)\n",
        "print(die_mean)"
      ],
      "execution_count": 55,
      "outputs": [
        {
          "output_type": "stream",
          "text": [
            "30\n",
            "3.7\n"
          ],
          "name": "stdout"
        }
      ]
    },
    {
      "cell_type": "markdown",
      "metadata": {
        "id": "ASKHnG401cRd",
        "colab_type": "text"
      },
      "source": [
        "Now we will plot the histogram!  Run the following block of code, and customize the plot to your liking.  Make sure you change the x and y axes labels."
      ]
    },
    {
      "cell_type": "code",
      "metadata": {
        "id": "JyS8EXTTx7Yy",
        "colab_type": "code",
        "colab": {}
      },
      "source": [
        "fig, ax = plt.subplots()\n",
        "bins = np.arange(0.5,7,1) # make nice bin ranges for dice\n",
        "ax.hist(rolls,bins=bins,color='skyblue',edgecolor = 'white',label='Test 1')\n",
        "# for other colors, see https://matplotlib.org/3.1.0/gallery/color/named_colors.html\n",
        "\n",
        "\n",
        "ax.set_ylabel('y axis label')\n",
        "ax.set_xlabel('x axis label')\n",
        "ax.legend()\n",
        "ax.set_title('Title');\n",
        "\n",
        "# If you ever want to save a plot, this is how you do it:\n",
        "#plt.savefig('diceplot.pdf',transparent=True)\n",
        "#files.download('diceplot.pdf');"
      ],
      "execution_count": null,
      "outputs": []
    },
    {
      "cell_type": "markdown",
      "metadata": {
        "id": "UJFCrSGMryGt",
        "colab_type": "text"
      },
      "source": [
        "Now you can go back to the video!"
      ]
    },
    {
      "cell_type": "markdown",
      "metadata": {
        "id": "iO368WfXuJwC",
        "colab_type": "text"
      },
      "source": [
        "# Prices of 30 Books:"
      ]
    },
    {
      "cell_type": "code",
      "metadata": {
        "id": "zLzxM_sLuaTF",
        "colab_type": "code",
        "colab": {}
      },
      "source": [
        "url = \"https://github.com/anna-klales/Python_S1b2020/raw/master/bookprices.csv\"\n",
        "\n",
        "prices = np.loadtxt(url)\n",
        "fig, ax = plt.subplots()\n",
        "#bins = np.arange(0.5,7,1) # make nice bin ranges for dice\n",
        "ax.hist(prices,color='skyblue',edgecolor = 'white')\n",
        "# for other colors, see https://matplotlib.org/3.1.0/gallery/color/named_colors.html\n",
        "\n",
        "\n",
        "ax.set_ylabel('Frequency')\n",
        "ax.set_xlabel('Price [USD]')\n",
        "#ax.legend()\n",
        "ax.set_title('Prices of Books');\n"
      ],
      "execution_count": null,
      "outputs": []
    },
    {
      "cell_type": "code",
      "metadata": {
        "id": "ZlnkqXylSmAK",
        "colab_type": "code",
        "colab": {}
      },
      "source": [
        ""
      ],
      "execution_count": null,
      "outputs": []
    }
  ]
}