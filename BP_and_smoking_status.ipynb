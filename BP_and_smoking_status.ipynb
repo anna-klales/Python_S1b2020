{
  "nbformat": 4,
  "nbformat_minor": 0,
  "metadata": {
    "colab": {
      "name": "BP and smoking status.ipynb",
      "provenance": [],
      "collapsed_sections": [],
      "authorship_tag": "ABX9TyMDNkUwuwC2DOs/Cv2yQvuA",
      "include_colab_link": true
    },
    "kernelspec": {
      "name": "python3",
      "display_name": "Python 3"
    }
  },
  "cells": [
    {
      "cell_type": "markdown",
      "metadata": {
        "id": "view-in-github",
        "colab_type": "text"
      },
      "source": [
        "<a href=\"https://colab.research.google.com/github/anna-klales/Python_S1b2020/blob/master/BP_and_smoking_status.ipynb\" target=\"_parent\"><img src=\"https://colab.research.google.com/assets/colab-badge.svg\" alt=\"Open In Colab\"/></a>"
      ]
    },
    {
      "cell_type": "code",
      "metadata": {
        "id": "_dJS7Hfdf9U4",
        "colab_type": "code",
        "colab": {}
      },
      "source": [
        "import numpy as np\n",
        "import matplotlib.pyplot as plt\n",
        "\n",
        "url = \"https://github.com/anna-klales/Python_S1b2020/blob/master/systolic_nonsmokers.csv?raw=true\"\n",
        "non_smokers = np.loadtxt(url)\n",
        "\n",
        "url = \"https://github.com/anna-klales/Python_S1b2020/raw/master/systolic_smokers.csv\"\n",
        "smokers = np.loadtxt(url)"
      ],
      "execution_count": null,
      "outputs": []
    }
  ]
}