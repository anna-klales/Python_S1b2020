{
  "nbformat": 4,
  "nbformat_minor": 0,
  "metadata": {
    "colab": {
      "name": "Lesson 1: Getting Started.ipynb",
      "provenance": [],
      "collapsed_sections": [],
      "include_colab_link": true
    },
    "kernelspec": {
      "name": "python3",
      "display_name": "Python 3"
    }
  },
  "cells": [
    {
      "cell_type": "markdown",
      "metadata": {
        "id": "view-in-github",
        "colab_type": "text"
      },
      "source": [
        "<a href=\"https://colab.research.google.com/github/anna-klales/Python_S1b2020/blob/master/Lesson_1_Getting_Started.ipynb\" target=\"_parent\"><img src=\"https://colab.research.google.com/assets/colab-badge.svg\" alt=\"Open In Colab\"/></a>"
      ]
    },
    {
      "cell_type": "markdown",
      "metadata": {
        "id": "Umik01pt3vPK",
        "colab_type": "text"
      },
      "source": [
        "# Read me First\n",
        "\n",
        "Learning to write even just a tiny bit of code is an extremely useful skill and an important tool for all types of scientists.  Why?  Well, computers are great for performing long and tedious mathematical tasks so that you don't have to!  Before computers were invented, these tasks were performed by groups of people - often women - who sat in a room together and crunched numbers.  There is a very rich history of women in computation and programming, and if you'd like to read more you could start [here](https://en.wikipedia.org/wiki/Computer_(job_description).  From Wikipedia, the picture below shows Dorothy Vaughan, Lessie Hunter, Vivian Adair, Margaret Ridenhour and Charlotte Craidon.\n",
        "\n",
        "\n",
        "![alt text](https://upload.wikimedia.org/wikipedia/commons/9/93/L_Dorothy_Vaughan_M_Lessie_Hunter_R_Vivian_Adair.jpg)\n",
        "\n",
        "We will mostly be using Python in this class for three purposes:\n",
        "\n",
        "1.  To eliminate the need for a calculator, making mathematical calculations easier (graphing calculators can be cumbersome to use)\n",
        "2.  To visualize and analyze data in lab (ie make plots and fit curves, find averages, etc)\n",
        "3.  To have fun\n",
        "\n",
        "\n",
        "This tutorial is meant to get you up and running with Python using Google Colab.  It is specifically tailored for the work that you'll do in S1b, but it is by no means comprehensive! (If you already have some experience coding, you'll be able to just blast through these exercises in no time - please use your expertise to help others.)\n",
        "\n",
        "To get the most out of this tutorial, follow along and try everything out in this notebook or a new one.  Don't be afraid to play around or try your own things - this is the best way to learn and it's the most fun. If you're worried you'll break your computer, I promise you won't!"
      ]
    },
    {
      "cell_type": "markdown",
      "metadata": {
        "id": "5h6AvmiM4ZcI",
        "colab_type": "text"
      },
      "source": [
        "# Learning Objectives\n",
        "\n",
        "After this tutorial, you should be able to...\n",
        "\n",
        "\n",
        "*   Import libraries and use functions from those libraries\n",
        "*   Define a variable\n",
        "*   Use print statements (shows a value on the screen)\n",
        "*   Add a comment to your code\n",
        "*   Calculate a quantity and store it in a variable (ie, understand how the equals sign works in Python)\n",
        "*   Write a little code to compute something \n",
        "\n",
        "\n",
        "\n",
        "\n"
      ]
    },
    {
      "cell_type": "markdown",
      "metadata": {
        "id": "4bCoHpDypx6s",
        "colab_type": "text"
      },
      "source": [
        "# Python as a calculator\n",
        "\n",
        "If you hover your mouse just a bit below this text, you'll see an option pop up to either add Code or Text - select \"+ Code.\"\n",
        "\n",
        "Python functions as a calculator.  Add a code cell below and add 3 and 2 by typing 3+2 and pressing \"shift+enter.\"  Typing \"+\" works just like pressing the + button on a calculator.    (If you see a pop up, just select 'Run Anyway' and then give it a moment to think.)"
      ]
    },
    {
      "cell_type": "markdown",
      "metadata": {
        "id": "OGa4i0qcqC9I",
        "colab_type": "text"
      },
      "source": [
        "See how it spit out the answer, which I hope was 5!?  You can also assign values to **variables**, like this:\n",
        "\n",
        "```\n",
        "a = 3\n",
        "b = 2\n",
        "\n",
        "c = a+b\n",
        "```\n",
        "(Warning! The above is just text, not code you can run.  You'll have to type this into a code cell (create a new one below) to run it.) \n",
        "\n",
        "\n",
        "\n",
        "\n",
        "\n",
        "\n"
      ]
    },
    {
      "cell_type": "markdown",
      "metadata": {
        "id": "YOldlDs0Uh5j",
        "colab_type": "text"
      },
      "source": [
        "Here a and b are like little labeled containers or jars that hold your numbers.\n",
        "\n",
        "You can change what's in the jar by reassigning it:\n",
        "\n",
        "```\n",
        "a=7.\n",
        "```"
      ]
    },
    {
      "cell_type": "markdown",
      "metadata": {
        "id": "NpWnwyUbikaM",
        "colab_type": "text"
      },
      "source": [
        "Now, we have to talk a little bit about the = in Python; it doesn't work like it does in math. Python goes line by line through your code, and uses each line as instructions.  Python looks to the **right** hand side of an equals sign, and computes whatever is there.  If it's just a 3, it doesn't really have to do anything.  If it's 3+2, it will add them to get 5.  Python takes that value and stores it in the variable name to the **left** of the equals sign.  In Python, you're almost always going to have just a variable name on the left by itself - you can't square it, or type in something like this:\n",
        "\n",
        "```a - 8 = 3 + 4.```\n",
        "\n",
        "See what happens if you try to run the above line of code.  What you see is Python \"throwing an error.\"  Most people who write code spend a lot more time fixing errors than writing new code, so please don't get discouraged if this happens to you!!! (The process of fixing your code is called \"debugging,\" and it usually involves a lot of Googling and ending up on a website called Stack Exchange. All of this is normal.)\n",
        "\n",
        "\n"
      ]
    },
    {
      "cell_type": "markdown",
      "metadata": {
        "id": "UhbOQjqi508i",
        "colab_type": "text"
      },
      "source": [
        "Anyway, Python won't know what to do with the above line, because it expects the stuff on the left hand side to be a name, so you'll have to move the 8 over to the other side yourself:\n",
        "\n",
        "```a = 3+4+8```\n",
        "\n",
        "So what counts as a variable name?  Any of these will work as variable names:\n",
        "\n",
        "```\n",
        "a = 4-7\n",
        "anna_k = 3+4\n",
        "a4 = 1+9\n",
        "```\n",
        "\n",
        "Try running these three lines of code below.  "
      ]
    },
    {
      "cell_type": "markdown",
      "metadata": {
        "id": "bpHjruLgjk-n",
        "colab_type": "text"
      },
      "source": [
        "You'll notice that you actually only get the answer to the final line of code.  By default Python \"prints out\" (displays) the value of whatever is in your final line of code.  If you want to print the value of a and anna_k, you'll need to do this:\n",
        "\n",
        "```\n",
        "a = 4-7\n",
        "print(a)\n",
        "anna_k = 3+4\n",
        "print(anna_k)\n",
        "a4 = 1+9\n",
        "\n",
        "```\n",
        "\n",
        "Or:\n",
        "\n",
        "```\n",
        "a = 4-7\n",
        "anna_k = 3+4\n",
        "a4 = 1+9\n",
        "print(a,anna_k,a4)\n",
        "```\n",
        "Try it in a new code cell below.\n",
        "\n"
      ]
    },
    {
      "cell_type": "markdown",
      "metadata": {
        "id": "ZWzO7sbOYSzs",
        "colab_type": "text"
      },
      "source": [
        "The humble print statment is one of the most useful tools you have, because it lets you check your work.  \n",
        "Our mantra is **WHEN IN DOUBT, PRINT IT OUT!**\n"
      ]
    },
    {
      "cell_type": "markdown",
      "metadata": {
        "id": "x3k8JQ7ekvlA",
        "colab_type": "text"
      },
      "source": [
        "\n",
        "\n",
        "---\n",
        "\n",
        "\n",
        "---\n",
        "\n",
        "\n",
        "\n",
        "---\n",
        "\n",
        "\n",
        "\n",
        "---\n",
        "\n",
        "\n",
        "\n",
        "\n",
        "#Am I getting it?\n",
        "\n",
        "\n",
        "1.  What will the following code print out?\n",
        "```\n",
        "a = 0\n",
        "a = 4\n",
        "```\n",
        "\n",
        "2.  What will the following code print out?\n",
        "```\n",
        "a = 0\n",
        "a = 4\n",
        "a\n",
        "```\n",
        "\n",
        "\n",
        "3. What will the following code print out?\n",
        "```\n",
        "a = 6\n",
        "a = a + 4\n",
        "print(a)  \n",
        "```\n",
        "\n",
        "4.  What will the following code print out?\n",
        "```\n",
        "a = 3\n",
        "print(a)\n",
        "a = a-7\n",
        "print(a)\n",
        "```\n",
        "\n",
        "\n",
        "\n",
        "---\n",
        "\n",
        "\n",
        "\n",
        "---\n",
        "\n",
        "\n",
        "\n",
        "---\n",
        "\n",
        "\n",
        "\n",
        "---\n",
        "\n"
      ]
    },
    {
      "cell_type": "markdown",
      "metadata": {
        "id": "_wMER9kbu6B1",
        "colab_type": "text"
      },
      "source": [
        "# Special math functions"
      ]
    },
    {
      "cell_type": "markdown",
      "metadata": {
        "id": "Zx03YpNfqVjC",
        "colab_type": "text"
      },
      "source": [
        "What if we want to compute the sine of $\\pi/2$?  Turns out we need a special sine function that lives in a library of numerical python functions called \"numpy.\"  (Your calculator does the exact same thing; you get the function by pressing the sin button on your calculator.) We import the library so that we can access all those functions, as shown below. Click on the cell and hit shift enter to run the cell."
      ]
    },
    {
      "cell_type": "code",
      "metadata": {
        "id": "kf4kt9aNqb4p",
        "colab_type": "code",
        "colab": {}
      },
      "source": [
        "import numpy as np"
      ],
      "execution_count": null,
      "outputs": []
    },
    {
      "cell_type": "markdown",
      "metadata": {
        "id": "p6THm-wCqvr-",
        "colab_type": "text"
      },
      "source": [
        "This imports the library numpy and gives it a nickname, np.  To use a function from that library (in code language people say \"call a function\"), like the sine function, you type:\n",
        "\n",
        "```\n",
        "np.sin(3.14/2).\n",
        "```\n",
        "\n",
        "Try it.  Is the answer correct?"
      ]
    },
    {
      "cell_type": "markdown",
      "metadata": {
        "id": "abzgxHbFrFSx",
        "colab_type": "text"
      },
      "source": [
        "Hmmm, that number is almost one, but 3.14 is only almost $\\pi$.  Numpy also stores the value of $\\pi$:"
      ]
    },
    {
      "cell_type": "code",
      "metadata": {
        "id": "h1lpIEsorLjl",
        "colab_type": "code",
        "colab": {
          "base_uri": "https://localhost:8080/",
          "height": 33
        },
        "outputId": "b7db45e5-cd6a-41c8-e5ef-60a1b8972b3d"
      },
      "source": [
        "np.sin(np.pi/2)"
      ],
      "execution_count": null,
      "outputs": [
        {
          "output_type": "execute_result",
          "data": {
            "text/plain": [
              "1.0"
            ]
          },
          "metadata": {
            "tags": []
          },
          "execution_count": 2
        }
      ]
    },
    {
      "cell_type": "markdown",
      "metadata": {
        "id": "brxkRsL9XHXH",
        "colab_type": "text"
      },
      "source": [
        "Here are some common mathematical functions you'll need.  If you need another one that's not here, try a quick internet search.\n",
        "\n",
        "Operation | Regular math syntax | Python syntax\n",
        "--- | --- | ---\n",
        "Add:|$a + b$  |   ```a+b```\n",
        "Subtract | $a-b$ | ```a-b```\n",
        "Multiply | $ab, a\\times b$ | ```a*b```\n",
        "Divide | $\\frac{a}{b}$ | ```a/b```\n",
        "Exponentiate| $a^b$ | ```a**b```\n",
        "Square root| $\\sqrt{a}$ | ```np.sqrt(a)```\n",
        "Sine| $\\sin(a)$ | ```np.sin(a)```\n",
        "Cosine| $\\cos(a)$ | ```np.cos(a)```\n",
        "Natural Log | $\\ln(a)$ | ```np.log(a)```\n",
        "Log base 10 | $\\log(a)$ | ```np.log10(a)```\n"
      ]
    },
    {
      "cell_type": "markdown",
      "metadata": {
        "id": "1YUAiPCL6YWH",
        "colab_type": "text"
      },
      "source": [
        "# Whitespace\n",
        "\n",
        "Unlike most programming languages, Python is particular about certain types of whitespace, meaning spaces and tabs that come before a line of code.  The following code is going to \"throw an error.\"  Try it!  Can you fix it?  "
      ]
    },
    {
      "cell_type": "code",
      "metadata": {
        "id": "e0m6z-yq7Cht",
        "colab_type": "code",
        "colab": {
          "base_uri": "https://localhost:8080/",
          "height": 126
        },
        "outputId": "b7cd1b83-2e81-4ebf-acea-9c6a42a8ec7c"
      },
      "source": [
        "a = 2\n",
        " b = -3\n",
        "\n",
        "c = a + b\n",
        "\n",
        "print(c)"
      ],
      "execution_count": null,
      "outputs": [
        {
          "output_type": "error",
          "ename": "IndentationError",
          "evalue": "ignored",
          "traceback": [
            "\u001b[0;36m  File \u001b[0;32m\"<ipython-input-3-3c5324d97130>\"\u001b[0;36m, line \u001b[0;32m2\u001b[0m\n\u001b[0;31m    b = -3\u001b[0m\n\u001b[0m    ^\u001b[0m\n\u001b[0;31mIndentationError\u001b[0m\u001b[0;31m:\u001b[0m unexpected indent\n"
          ]
        }
      ]
    },
    {
      "cell_type": "markdown",
      "metadata": {
        "id": "hd7V74CSLLMP",
        "colab_type": "text"
      },
      "source": [
        "\n",
        "\n",
        "---\n"
      ]
    },
    {
      "cell_type": "markdown",
      "metadata": {
        "id": "B9bMspuP1xmM",
        "colab_type": "text"
      },
      "source": [
        "# Example 1\n",
        "\n",
        "Suppose you need to find the solutions to \n",
        "$$0 = 6x^2 - 3x - 4,$$ and then you also need to solve 8 more problems of the same type. \n",
        "\n",
        "To solve this, you know you need to use the [quadratic formula](https://en.wikipedia.org/wiki/Quadratic_formula), which says that if your function is \n",
        "\n",
        "$$0 = ax^2 + bx + c,$$\n",
        "\n",
        "the solutions are \n",
        "$$x = \\frac{-b\\pm \\sqrt{b^2-4ac}}{2a}.$$\n",
        "\n",
        "\n",
        "You could type something like this into your calculator:\n",
        "```\n",
        "(-(-3)+sqrt((-3)^2-(4*6*(-4))))/(2*6)\n",
        "```\n",
        "And then you gotta do this:\n",
        "```\n",
        "(-(-3)-sqrt((-3)^2-(4*6*(-4))))/(2*6)\n",
        "```\n",
        " And then you have to type in new numbers to do the next problem.\n",
        "\n",
        "\n",
        "Or, you could use a little bit of Python.  Generally, you'll go through the following steps, which have a lot in common with physics problem solving:\n",
        "\n",
        "1. What values do I **know**?\n",
        "      * Assign those values to variables in Python\n",
        "      * Make sure you use appropriate Python syntax\n",
        "      * Check your work by printing out the variables\n",
        "2. What values do I **want**?\n",
        "      * How are the values I want related to the values I have?\n",
        "      * This is usually a mathematical equation that you can (any probably should) write down on paper\n",
        "3. What **mathematical calculation** do I need to perform? \n",
        "      * Solve (on paper) for the value you want.\n",
        "      * Implement that calculation in Python (How do I say it in Python language?)\n",
        "\n",
        "\n",
        "\n"
      ]
    },
    {
      "cell_type": "code",
      "metadata": {
        "id": "lZPOdyk41yXe",
        "colab_type": "code",
        "colab": {
          "base_uri": "https://localhost:8080/",
          "height": 50
        },
        "outputId": "3c4dcb42-0fdb-47f7-aedf-67122d6d5f80"
      },
      "source": [
        "a = 6   # Coefficient of x^2 \n",
        "b = -3  # Coefficient of x^1\n",
        "c = -4  # Coefficient of x^0\n",
        "\n",
        "\n",
        "# Calculate both roots:\n",
        "x1 = (-b+np.sqrt(b**2-4*a*c))/(2*a)\n",
        "x2 = (-b-np.sqrt(b**2-4*a*c))/(2*a)\n",
        "\n",
        "\n",
        "# Print out the answers:\n",
        "print(x1)\n",
        "print(x2)"
      ],
      "execution_count": null,
      "outputs": [
        {
          "output_type": "stream",
          "text": [
            "1.1039125638299665\n",
            "-0.6039125638299665\n"
          ],
          "name": "stdout"
        }
      ]
    },
    {
      "cell_type": "markdown",
      "metadata": {
        "id": "GLUAvFQntl1f",
        "colab_type": "text"
      },
      "source": [
        "Now all I have to do to find the solutions to all 8 problems is change the values of a, b and c at the top of the code, and run the little cell again.  Pretty nice eh?!\n",
        "\n",
        "\n",
        "One more thing!  See those green things after the # above?  Those are comments; when the computer goes through your code line by line, it ignores stuff after the #, so that you can write useful notes for yourself."
      ]
    },
    {
      "cell_type": "markdown",
      "metadata": {
        "id": "ri8esLDJYbXH",
        "colab_type": "text"
      },
      "source": [
        "# Example 2\n",
        "\n",
        "You can also evaluate complicated mathematical expressions in parts, which makes things a little easier sometimes.\n",
        "\n",
        "Suppose someone wants you to calculate the force between two charges, and they tell you that $q_1$ is located at position $r_1$ = (4, 2), and $q_2$ is located at position $r_2$ = (3, 5).  Both charges are 1 C.  \n",
        "\n",
        "You know that to calculate the force you need the separation, r, between the two charges in order to use Coulomb's law:\n",
        "$$F = k\\frac{q_1q_2}{r^2}.$$\n",
        "\n",
        "Your first order of business is to calculate r, or $r^2$:\n",
        "\n",
        "\n"
      ]
    },
    {
      "cell_type": "code",
      "metadata": {
        "id": "nrE1l_JBjJiP",
        "colab_type": "code",
        "colab": {
          "base_uri": "https://localhost:8080/",
          "height": 50
        },
        "outputId": "e7ad2baa-117a-4a3b-c9af-c9f466f37d2e"
      },
      "source": [
        "# Import libraries:\n",
        "\n",
        "import numpy as np\n",
        "import matplotlib.pyplot as plt\n",
        "from scipy.optimize import curve_fit\n",
        " \n",
        "\n",
        "# Define general constants \n",
        "g = 9.81                        # Acceleration of gravity on earth's surface [m/s^2]\n",
        "qp = 1.6 * 10**(-19)            # Charge of the proton  [C]\n",
        "qe = -qp                        # Charge of the electron [C]\n",
        "epsilon_0 = 8.85 * 10**(-12)    # Permitivity of free space [C^2/(Nm^2)]\n",
        "k = 1/(4*np.pi*epsilon_0)       # Coulomb's constant [Nm^2/C^2]\n",
        "\n",
        "# Define our charges\n",
        "q1 = 1                          # Charge of the first charge [C]\n",
        "q2 = 1                          # Charge of the second charge [C]\n",
        "\n",
        "# calculate r^2 first:\n",
        "\n",
        "rsquared = (4-3)**2 + (2-5)**2 \n",
        "\n",
        "# now use your value of r^2 to get F\n",
        "F = k*q1*q2/rsquared\n",
        "print(F)\n",
        "\n",
        "######################################################\n",
        "\n",
        "# The above is a little neater and less prone to mistakes than this:\n",
        "\n",
        "F = k*q1*q2/((4-3)**2 + (2-5)**2)\n",
        "print(F)"
      ],
      "execution_count": null,
      "outputs": [
        {
          "output_type": "stream",
          "text": [
            "899180469.4457365\n",
            "899180469.4457365\n"
          ],
          "name": "stdout"
        }
      ]
    },
    {
      "cell_type": "markdown",
      "metadata": {
        "id": "DccnSN7kLb9H",
        "colab_type": "text"
      },
      "source": [
        "\n",
        "\n",
        "---\n",
        "\n",
        "\n",
        "\n",
        "---\n",
        "\n"
      ]
    },
    {
      "cell_type": "markdown",
      "metadata": {
        "id": "KRA5PAONtv37",
        "colab_type": "text"
      },
      "source": [
        "# Exercise 1\n",
        "\n",
        "Write a little bit of code you can use to compute the hypotenuse of a right triangle using the pythagorean theorem \n",
        "\n",
        "$$c^2 = a^2 + b^2$$\n",
        "\n",
        "given the side lengths, a and b. Use the guidelines given above."
      ]
    },
    {
      "cell_type": "code",
      "metadata": {
        "id": "RfA5DVLpWyrh",
        "colab_type": "code",
        "colab": {}
      },
      "source": [
        "# Your code here\n",
        "\n"
      ],
      "execution_count": null,
      "outputs": []
    },
    {
      "cell_type": "markdown",
      "metadata": {
        "id": "33eqNRfUvmGL",
        "colab_type": "text"
      },
      "source": [
        "# Exercise 2\n",
        "\n",
        "A vector of length 8 meters lies at an angle of 49 degrees above the x-axis.  Write a little bit of code that finds the x and y components of the vector.  Hint: there is a function that converts degrees to radians for you, np.deg2rad().  Verify that it works the way you think it does before you use it."
      ]
    },
    {
      "cell_type": "code",
      "metadata": {
        "id": "rpBCZGPVXrVg",
        "colab_type": "code",
        "colab": {}
      },
      "source": [
        "# Your code here"
      ],
      "execution_count": null,
      "outputs": []
    },
    {
      "cell_type": "markdown",
      "metadata": {
        "id": "T_0JCk0RuOwt",
        "colab_type": "text"
      },
      "source": [
        "# Exercise 3\n",
        "\n",
        "When I'm working on physics problems I keep a notebook around that imports commonly used libraries and defines all of the constants I use frequently, since they tend to be cumbersome numbers.  Here are some of them:\n",
        "\n",
        "```\n",
        "import numpy as np\n",
        "import matplotlib.pyplot as plt\n",
        "from scipy.optimize import curve_fit\n",
        "\n",
        "g = 9.81                        # Acceleration of gravity on earth's surface [m/s^2]\n",
        "qp = 1.6 * 10**(-19)            # Charge of the proton  [C]\n",
        "qe = -qp                        # Charge of the electron [C]\n",
        "epsilon_0 = 8.85 * 10**(-12)    # Permitivity of free space [C^2/(Nm^2)]\n",
        "k = 1/(4*np.pi*epsilon_0)       # Coulomb's constant [Nm^2/C^2]\n",
        "```\n",
        "\n",
        "I simply copy this cell into a new notebook whenever I need to compute anything in this course.  Define your constants below, and use them to compute the magnitude of the force between two charges when you're doing your homework.  \n",
        "\n"
      ]
    }
  ]
}