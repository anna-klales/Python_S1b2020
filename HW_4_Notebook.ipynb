{
  "nbformat": 4,
  "nbformat_minor": 0,
  "metadata": {
    "colab": {
      "name": "HW 4 Notebook.ipynb",
      "provenance": [],
      "collapsed_sections": [],
      "authorship_tag": "ABX9TyNYVlQ5OxM/22r2rC0qypG8",
      "include_colab_link": true
    },
    "kernelspec": {
      "name": "python3",
      "display_name": "Python 3"
    }
  },
  "cells": [
    {
      "cell_type": "markdown",
      "metadata": {
        "id": "view-in-github",
        "colab_type": "text"
      },
      "source": [
        "<a href=\"https://colab.research.google.com/github/anna-klales/Python_S1b2020/blob/master/HW_4_Notebook.ipynb\" target=\"_parent\"><img src=\"https://colab.research.google.com/assets/colab-badge.svg\" alt=\"Open In Colab\"/></a>"
      ]
    },
    {
      "cell_type": "code",
      "metadata": {
        "id": "nMsYVxGQ1itC",
        "colab_type": "code",
        "colab": {}
      },
      "source": [
        "import numpy as np\n",
        "import matplotlib.pyplot as plt\n",
        "from google.colab import files"
      ],
      "execution_count": 1,
      "outputs": []
    },
    {
      "cell_type": "code",
      "metadata": {
        "id": "BUaCscqy1oCr",
        "colab_type": "code",
        "colab": {}
      },
      "source": [
        "url = \"https://github.com/anna-klales/Python_S1b2020/blob/master/classtrials.csv?raw=true\"\n",
        "class_trials = np.loadtxt(url)"
      ],
      "execution_count": 3,
      "outputs": []
    },
    {
      "cell_type": "markdown",
      "metadata": {
        "id": "qEQougpV1--J",
        "colab_type": "text"
      },
      "source": [
        "# Enter the data from your 10 trials in the array below, replacing the zeros with your data:"
      ]
    },
    {
      "cell_type": "code",
      "metadata": {
        "id": "RMyKJp9x10M8",
        "colab_type": "code",
        "colab": {}
      },
      "source": [
        "my_trials = np.array([0,0,0,0,0,0,0,0,0,0])"
      ],
      "execution_count": 4,
      "outputs": []
    },
    {
      "cell_type": "markdown",
      "metadata": {
        "id": "wX2Xdck3_nb-",
        "colab_type": "text"
      },
      "source": [
        "Run the code cell below to plot the distributions of your data and the class data.  Check to be sure they make sense. Change the x and y axes lables, the title of the plot, and the labels in the lengend."
      ]
    },
    {
      "cell_type": "code",
      "metadata": {
        "id": "v28GZYoZ_n5f",
        "colab_type": "code",
        "colab": {
          "base_uri": "https://localhost:8080/",
          "height": 295
        },
        "outputId": "045eb26a-a8bd-4313-8b03-61b14290df73"
      },
      "source": [
        "fig, ax = plt.subplots()\n",
        "bins = np.arange(-0.5,11,1) # make nice bin ranges for coins\n",
        "ax.hist(class_trials,bins=bins,color='blue',edgecolor = 'white',label='Label 1')\n",
        "ax.hist(my_trials,bins=bins,color='skyblue',edgecolor = 'white',label='Label 2')\n",
        "# for other colors, see https://matplotlib.org/3.1.0/gallery/color/named_colors.html\n",
        "\n",
        "\n",
        "ax.set_ylabel('y axis label')\n",
        "ax.set_xlabel('x axis label')\n",
        "ax.legend()\n",
        "ax.set_title('Title');\n",
        "\n",
        "# If you ever want to save a plot as a pdf, for use in a paper for example, this is how you do it:\n",
        "#plt.savefig('myplot.pdf',transparent=True)\n",
        "#files.download('myplot.pdf');"
      ],
      "execution_count": 6,
      "outputs": [
        {
          "output_type": "display_data",
          "data": {
            "image/png": "[encoded data removed]",
            "text/plain": [
              "<Figure size 432x288 with 1 Axes>"
            ]
          },
          "metadata": {
            "tags": [],
            "needs_background": "light"
          }
        }
      ]
    },
    {
      "cell_type": "markdown",
      "metadata": {
        "id": "g4GlBWESAUu5",
        "colab_type": "text"
      },
      "source": [
        "# Determining the statistical significance"
      ]
    },
    {
      "cell_type": "markdown",
      "metadata": {
        "id": "LIR_Vhej2MLs",
        "colab_type": "text"
      },
      "source": [
        "You are looking to find the statistical significance of your trials relative to the class trials.  The statistical significance is \n",
        "$$SS = \\frac{|(\\text{mean of your trials})-(\\text{mean of class trials})|}{\\sqrt{\\sigma_{\\mu,\\text{you}}^2+\\sigma_{\\mu,\\text{class}}^2}}$$\n",
        "\n",
        "where $\\sigma_{\\mu,\\text{you}}$ is the error **in the mean** of your dataset and $\\sigma_{\\mu,\\text{class}}$ is the error **in the mean** of the class dataset.\n",
        "\n",
        "Since the error in the mean is \n",
        "$$\\sigma_\\mu = \\frac{\\sigma}{\\sqrt{N}}=\\frac{\\text{standard deviation}}{\\text{number of elements in dataset}}$$\n",
        "\n",
        "it's easy to compute this in python, because numpy has a standard deviation function.  To find the error in your dataset, you just do\n",
        "\n",
        "```\n",
        "N_me = len(my_trials)\n",
        "my_mean_error = np.std(my_trials)/np.sqrt(N_me)\n",
        "```\n",
        "\n",
        "Use the code cell below to compute the statistical significance of the two measurements."
      ]
    },
    {
      "cell_type": "code",
      "metadata": {
        "id": "Br2D2nUOAriR",
        "colab_type": "code",
        "colab": {}
      },
      "source": [
        ""
      ],
      "execution_count": null,
      "outputs": []
    }
  ]
}